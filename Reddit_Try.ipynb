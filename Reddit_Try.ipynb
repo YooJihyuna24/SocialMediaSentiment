{
 "cells": [
  {
   "cell_type": "code",
   "execution_count": 1,
   "metadata": {},
   "outputs": [
    {
     "ename": "ValueError",
     "evalue": "An invalid value was specified for display_name. Check that the argument for the display_name parameter is not empty.",
     "output_type": "error",
     "traceback": [
      "\u001b[31m---------------------------------------------------------------------------\u001b[39m",
      "\u001b[31mValueError\u001b[39m                                Traceback (most recent call last)",
      "\u001b[36mCell\u001b[39m\u001b[36m \u001b[39m\u001b[32mIn[1]\u001b[39m\u001b[32m, line 27\u001b[39m\n\u001b[32m     24\u001b[39m subreddit_name = \u001b[38;5;28minput\u001b[39m(\u001b[33m\"\u001b[39m\u001b[33mGib den Subreddit ein (z.B. \u001b[39m\u001b[33m'\u001b[39m\u001b[33mall\u001b[39m\u001b[33m'\u001b[39m\u001b[33m): \u001b[39m\u001b[33m\"\u001b[39m).strip()\n\u001b[32m     25\u001b[39m query = \u001b[38;5;28minput\u001b[39m(\u001b[33m\"\u001b[39m\u001b[33mGib einen Suchbegriff ein: \u001b[39m\u001b[33m\"\u001b[39m).strip()\n\u001b[32m---> \u001b[39m\u001b[32m27\u001b[39m raw_posts = \u001b[43mget_reddit_posts\u001b[49m\u001b[43m(\u001b[49m\u001b[43msubreddit_name\u001b[49m\u001b[43m,\u001b[49m\u001b[43m \u001b[49m\u001b[43mquery\u001b[49m\u001b[43m,\u001b[49m\u001b[43m \u001b[49m\u001b[43mmax_posts\u001b[49m\u001b[43m=\u001b[49m\u001b[32;43m10\u001b[39;49m\u001b[43m)\u001b[49m\n\u001b[32m     28\u001b[39m clean_texts = clean_post_text(raw_posts)\n\u001b[32m     30\u001b[39m \u001b[38;5;28mprint\u001b[39m(\u001b[33mf\u001b[39m\u001b[33m\"\u001b[39m\u001b[38;5;130;01m\\n\u001b[39;00m\u001b[33mExtrahierte Reddit-Posts aus r/\u001b[39m\u001b[38;5;132;01m{\u001b[39;00msubreddit_name\u001b[38;5;132;01m}\u001b[39;00m\u001b[33m zu \u001b[39m\u001b[33m'\u001b[39m\u001b[38;5;132;01m{\u001b[39;00mquery\u001b[38;5;132;01m}\u001b[39;00m\u001b[33m'\u001b[39m\u001b[33m:\u001b[39m\u001b[33m\"\u001b[39m)\n",
      "\u001b[36mCell\u001b[39m\u001b[36m \u001b[39m\u001b[32mIn[1]\u001b[39m\u001b[32m, line 13\u001b[39m, in \u001b[36mget_reddit_posts\u001b[39m\u001b[34m(subreddit_name, query, max_posts)\u001b[39m\n\u001b[32m     12\u001b[39m \u001b[38;5;28;01mdef\u001b[39;00m\u001b[38;5;250m \u001b[39m\u001b[34mget_reddit_posts\u001b[39m(subreddit_name, query, max_posts=\u001b[32m100\u001b[39m):\n\u001b[32m---> \u001b[39m\u001b[32m13\u001b[39m     subreddit = \u001b[43mreddit\u001b[49m\u001b[43m.\u001b[49m\u001b[43msubreddit\u001b[49m\u001b[43m(\u001b[49m\u001b[43msubreddit_name\u001b[49m\u001b[43m)\u001b[49m\n\u001b[32m     14\u001b[39m     posts = []\n\u001b[32m     16\u001b[39m     \u001b[38;5;28;01mfor\u001b[39;00m submission \u001b[38;5;129;01min\u001b[39;00m subreddit.search(query, limit=max_posts):\n",
      "\u001b[36mFile \u001b[39m\u001b[32mc:\\Users\\Jihyun\\Documents\\GitHub\\SocialMediaSentiment\\.venv\\Lib\\site-packages\\praw\\models\\helpers.py:335\u001b[39m, in \u001b[36mSubredditHelper.__call__\u001b[39m\u001b[34m(self, display_name)\u001b[39m\n\u001b[32m    332\u001b[39m \u001b[38;5;28;01mif\u001b[39;00m lower_name == \u001b[33m\"\u001b[39m\u001b[33mrandnsfw\u001b[39m\u001b[33m\"\u001b[39m:\n\u001b[32m    333\u001b[39m     \u001b[38;5;28;01mreturn\u001b[39;00m \u001b[38;5;28mself\u001b[39m._reddit.random_subreddit(nsfw=\u001b[38;5;28;01mTrue\u001b[39;00m)\n\u001b[32m--> \u001b[39m\u001b[32m335\u001b[39m \u001b[38;5;28;01mreturn\u001b[39;00m \u001b[43mSubreddit\u001b[49m\u001b[43m(\u001b[49m\u001b[38;5;28;43mself\u001b[39;49m\u001b[43m.\u001b[49m\u001b[43m_reddit\u001b[49m\u001b[43m,\u001b[49m\u001b[43m \u001b[49m\u001b[43mdisplay_name\u001b[49m\u001b[43m=\u001b[49m\u001b[43mdisplay_name\u001b[49m\u001b[43m)\u001b[49m\n",
      "\u001b[36mFile \u001b[39m\u001b[32mc:\\Users\\Jihyun\\Documents\\GitHub\\SocialMediaSentiment\\.venv\\Lib\\site-packages\\praw\\models\\reddit\\subreddit.py:3015\u001b[39m, in \u001b[36mSubreddit.__init__\u001b[39m\u001b[34m(self, reddit, display_name, _data)\u001b[39m\n\u001b[32m   3013\u001b[39m \u001b[38;5;28;01mif\u001b[39;00m display_name:\n\u001b[32m   3014\u001b[39m     \u001b[38;5;28mself\u001b[39m.display_name = display_name\n\u001b[32m-> \u001b[39m\u001b[32m3015\u001b[39m \u001b[38;5;28;43msuper\u001b[39;49m\u001b[43m(\u001b[49m\u001b[43m)\u001b[49m\u001b[43m.\u001b[49m\u001b[34;43m__init__\u001b[39;49m\u001b[43m(\u001b[49m\u001b[43mreddit\u001b[49m\u001b[43m,\u001b[49m\u001b[43m \u001b[49m\u001b[43m_data\u001b[49m\u001b[43m=\u001b[49m\u001b[43m_data\u001b[49m\u001b[43m)\u001b[49m\n\u001b[32m   3016\u001b[39m \u001b[38;5;28mself\u001b[39m._path = API_PATH[\u001b[33m\"\u001b[39m\u001b[33msubreddit\u001b[39m\u001b[33m\"\u001b[39m].format(subreddit=\u001b[38;5;28mself\u001b[39m)\n",
      "\u001b[36mFile \u001b[39m\u001b[32mc:\\Users\\Jihyun\\Documents\\GitHub\\SocialMediaSentiment\\.venv\\Lib\\site-packages\\praw\\models\\listing\\mixins\\subreddit.py:74\u001b[39m, in \u001b[36mSubredditListingMixin.__init__\u001b[39m\u001b[34m(self, reddit, _data)\u001b[39m\n\u001b[32m     68\u001b[39m \u001b[38;5;28;01mdef\u001b[39;00m\u001b[38;5;250m \u001b[39m\u001b[34m__init__\u001b[39m(\u001b[38;5;28mself\u001b[39m, reddit: praw.Reddit, _data: \u001b[38;5;28mdict\u001b[39m[\u001b[38;5;28mstr\u001b[39m, Any] | \u001b[38;5;28;01mNone\u001b[39;00m):\n\u001b[32m     69\u001b[39m \u001b[38;5;250m    \u001b[39m\u001b[33;03m\"\"\"Initialize a :class:`.SubredditListingMixin` instance.\u001b[39;00m\n\u001b[32m     70\u001b[39m \n\u001b[32m     71\u001b[39m \u001b[33;03m    :param reddit: An instance of :class:`.Reddit`.\u001b[39;00m\n\u001b[32m     72\u001b[39m \n\u001b[32m     73\u001b[39m \u001b[33;03m    \"\"\"\u001b[39;00m\n\u001b[32m---> \u001b[39m\u001b[32m74\u001b[39m     \u001b[38;5;28;43msuper\u001b[39;49m\u001b[43m(\u001b[49m\u001b[43m)\u001b[49m\u001b[43m.\u001b[49m\u001b[34;43m__init__\u001b[39;49m\u001b[43m(\u001b[49m\u001b[43mreddit\u001b[49m\u001b[43m,\u001b[49m\u001b[43m \u001b[49m\u001b[43m_data\u001b[49m\u001b[43m=\u001b[49m\u001b[43m_data\u001b[49m\u001b[43m)\u001b[49m\n",
      "\u001b[36mFile \u001b[39m\u001b[32mc:\\Users\\Jihyun\\Documents\\GitHub\\SocialMediaSentiment\\.venv\\Lib\\site-packages\\praw\\models\\reddit\\base.py:69\u001b[39m, in \u001b[36mRedditBase.__init__\u001b[39m\u001b[34m(self, reddit, _data, _extra_attribute_to_check, _fetched, _str_field)\u001b[39m\n\u001b[32m     67\u001b[39m     \u001b[38;5;28;01mreturn\u001b[39;00m\n\u001b[32m     68\u001b[39m msg = \u001b[33mf\u001b[39m\u001b[33m\"\u001b[39m\u001b[33mAn invalid value was specified for \u001b[39m\u001b[38;5;132;01m{\u001b[39;00m\u001b[38;5;28mself\u001b[39m.STR_FIELD\u001b[38;5;132;01m}\u001b[39;00m\u001b[33m. Check that the argument for the \u001b[39m\u001b[38;5;132;01m{\u001b[39;00m\u001b[38;5;28mself\u001b[39m.STR_FIELD\u001b[38;5;132;01m}\u001b[39;00m\u001b[33m parameter is not empty.\u001b[39m\u001b[33m\"\u001b[39m\n\u001b[32m---> \u001b[39m\u001b[32m69\u001b[39m \u001b[38;5;28;01mraise\u001b[39;00m \u001b[38;5;167;01mValueError\u001b[39;00m(msg)\n",
      "\u001b[31mValueError\u001b[39m: An invalid value was specified for display_name. Check that the argument for the display_name parameter is not empty."
     ]
    }
   ],
   "source": [
    "import praw\n",
    "from bs4 import BeautifulSoup\n",
    "\n",
    "reddit = praw.Reddit(\n",
    "    client_id=\"tiAwk4J29BEIN9urhTJrdg\",\n",
    "    client_secret=\"fbqEO5oTZBWw856sK3B5Ru1O7g7Xxw\",\n",
    "    user_agent=\"SentimentAnalysisBot\",\n",
    "    username=\"Available-Win-3750\",\n",
    "    password=\"^k}'mZLr2#W$SFb\"\n",
    ")\n",
    "\n",
    "def get_reddit_posts(subreddit_name, query, max_posts=100):\n",
    "    subreddit = reddit.subreddit(subreddit_name)\n",
    "    posts = []\n",
    "    \n",
    "    for submission in subreddit.search(query, limit=max_posts):\n",
    "        posts.append(submission.selftext if submission.selftext else submission.title)\n",
    "    \n",
    "    return posts\n",
    "\n",
    "def clean_post_text(posts):\n",
    "    return [BeautifulSoup(post, \"html.parser\").get_text() for post in posts]\n",
    "\n",
    "subreddit_name = input(\"Gib den Subreddit ein (z.B. 'all'): \").strip()\n",
    "query = input(\"Gib einen Suchbegriff ein: \").strip()\n",
    "\n",
    "raw_posts = get_reddit_posts(subreddit_name, query, max_posts=10)\n",
    "clean_texts = clean_post_text(raw_posts)\n",
    "\n",
    "print(f\"\\nExtrahierte Reddit-Posts aus r/{subreddit_name} zu '{query}':\")\n",
    "for text in clean_texts:\n",
    "    print(\"-\" * 50)\n",
    "    print(text)"
   ]
  },
  {
   "cell_type": "code",
   "execution_count": null,
   "metadata": {},
   "outputs": [],
   "source": []
  }
 ],
 "metadata": {
  "kernelspec": {
   "display_name": ".venv",
   "language": "python",
   "name": "python3"
  },
  "language_info": {
   "codemirror_mode": {
    "name": "ipython",
    "version": 3
   },
   "file_extension": ".py",
   "mimetype": "text/x-python",
   "name": "python",
   "nbconvert_exporter": "python",
   "pygments_lexer": "ipython3",
   "version": "3.13.2"
  }
 },
 "nbformat": 4,
 "nbformat_minor": 2
}
