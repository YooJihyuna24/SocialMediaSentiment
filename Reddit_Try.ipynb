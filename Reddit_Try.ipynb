{
 "cells": [
  {
   "cell_type": "code",
   "execution_count": 2,
   "metadata": {},
   "outputs": [
    {
     "name": "stdout",
     "output_type": "stream",
     "text": [
      "\n",
      "Extrahierte Reddit-Posts aus r/ainbow zu 'gay':\n",
      "--------------------------------------------------\n",
      "I’ve seen a few post on here about the issues trans people are having to deal with in the USA. A lot have some really shitty views of how us in the T category don’t belong and how being gay and trans shouldn’t be in the same group.\n",
      "\n",
      "You know what I say to those people, fuck you. \n",
      "How dare you forget the backs of the trans women that the gay rights movement was propped up on. How dare you forget who threw the first stone at stone wall. Shame on you for forgetting your very much gay, lesbian, bisexual and queer trans brothers and sisters. Shame on you for forgetting that gender expression has always been a part of our community. And most of all, shame on you for being cowards who don’t have a back bone to stand up to bigotry. We have always been there. Fuck most of us came out as gay before figuring out we are trans. We are your fucking people. How dare you forget that.\n",
      "\n",
      "\n",
      "Edit: Thank you for the gold. But mostly thank you for all the kind words of support for trans people. Coming back to this kind of reaction is wonderful. I’m sorry I won’t be able to reply to everyone.\n",
      "\n",
      "Edit: I should have included NB and other trans folks who don’t necessarily identify in a binary way. You’re just as important too. \n",
      "--------------------------------------------------\n",
      "Gay artist explodes Twitter: ‘Straight men understand consent when they go to a gay bar’\n",
      "--------------------------------------------------\n",
      "The gay scene at Trump's inauguration was full of cringe\n",
      "--------------------------------------------------\n",
      "I want to make a scent for this soap but WHAT DO GAYS SMELL LIKE?\n",
      "--------------------------------------------------\n",
      "Roy Moore, clearly butt-hurt over his loss to Democrat Doug Jones, posts article on his facebook attacking the gay son of Doug Jones. In my opinion, Roy needs to quit casting stones at other people's family and deal with his own son... who has been arrested a shit ton of times.\n",
      "--------------------------------------------------\n",
      "straight woman asks for ‘gay best friend’ on uni’s anonymous love letter page\n",
      "--------------------------------------------------\n",
      "Trump's Treasury Secretary is highest-ranking out gay person in US history\n",
      "--------------------------------------------------\n",
      "Majority of U.S. Muslims now support gay marriage, while white evangelical Christians remain opposed\n",
      "--------------------------------------------------\n",
      "A gay Trump supporter went viral after he had a racist hissy fit in a Lyft. Now he’s out of a job.\n",
      "--------------------------------------------------\n",
      "This asshole in Colorado. Jared Polis is the first openly gay governor in the nation and this is clearly directed at him.\n"
     ]
    }
   ],
   "source": [
    "import praw\n",
    "from bs4 import BeautifulSoup\n",
    "\n",
    "reddit = praw.Reddit(\n",
    "    client_id=\"tiAwk4J29BEIN9urhTJrdg\",\n",
    "    client_secret=\"fbqEO5oTZBWw856sK3B5Ru1O7g7Xxw\",\n",
    "    user_agent=\"SentimentAnalysisBot\",\n",
    "    username=\"Available-Win-3750\",\n",
    "    password=\"^k}'mZLr2#W$SFb\"\n",
    ")\n",
    "\n",
    "def get_reddit_posts(subreddit_name, query, max_posts=100):\n",
    "    subreddit = reddit.subreddit(subreddit_name)\n",
    "    posts = []\n",
    "    \n",
    "    for submission in subreddit.search(query, limit=max_posts):\n",
    "        posts.append(submission.selftext if submission.selftext else submission.title)\n",
    "    \n",
    "    return posts\n",
    "\n",
    "def clean_post_text(posts):\n",
    "    return [BeautifulSoup(post, \"html.parser\").get_text() for post in posts]\n",
    "\n",
    "subreddit_name = input(\"Gib den Subreddit ein (z.B. 'all'): \").strip()\n",
    "query = input(\"Gib einen Suchbegriff ein: \").strip()\n",
    "\n",
    "raw_posts = get_reddit_posts(subreddit_name, query, max_posts=10)\n",
    "clean_texts = clean_post_text(raw_posts)\n",
    "\n",
    "print(f\"\\nExtrahierte Reddit-Posts aus r/{subreddit_name} zu '{query}':\")\n",
    "for text in clean_texts:\n",
    "    print(\"-\" * 50)\n",
    "    print(text)"
   ]
  },
  {
   "cell_type": "code",
   "execution_count": null,
   "metadata": {},
   "outputs": [],
   "source": []
  }
 ],
 "metadata": {
  "kernelspec": {
   "display_name": "Python 3",
   "language": "python",
   "name": "python3"
  },
  "language_info": {
   "codemirror_mode": {
    "name": "ipython",
    "version": 3
   },
   "file_extension": ".py",
   "mimetype": "text/x-python",
   "name": "python",
   "nbconvert_exporter": "python",
   "pygments_lexer": "ipython3",
   "version": "3.12.7"
  }
 },
 "nbformat": 4,
 "nbformat_minor": 2
}
