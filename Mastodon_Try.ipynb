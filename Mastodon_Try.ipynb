{
 "cells": [
  {
   "cell_type": "code",
   "execution_count": 1,
   "metadata": {},
   "outputs": [
    {
     "ename": "SyntaxError",
     "evalue": "invalid syntax (1899885584.py, line 1)",
     "output_type": "error",
     "traceback": [
      "\u001b[1;36m  Cell \u001b[1;32mIn[1], line 1\u001b[1;36m\u001b[0m\n\u001b[1;33m    curl https://mastodon.example/endpoint?q=test&n=0\u001b[0m\n\u001b[1;37m         ^\u001b[0m\n\u001b[1;31mSyntaxError\u001b[0m\u001b[1;31m:\u001b[0m invalid syntax\n"
     ]
    }
   ],
   "source": [
    "from mastodon import Mastodon\n",
    "\n",
    "# Registrierung der Anwendung (einmalig pro Instanz)\n",
    "Mastodon.create_app(\n",
    "    'meine_app',\n",
    "    api_base_url='https://mastodon.social',\n",
    "    to_file='meine_app_clientcred.secret'\n",
    ")\n",
    "\n",
    "# Anmeldung mit deinem Benutzerkonto\n",
    "mastodon = Mastodon(\n",
    "    client_id='meine_app_clientcred.secret'\n",
    ")\n",
    "mastodon.log_in(\n",
    "    'deine_email@example.com',\n",
    "    'dein_passwort',\n",
    "    to_file='meine_app_usercred.secret'\n",
    ")\n"
   ]
  },
  {
   "cell_type": "code",
   "execution_count": null,
   "metadata": {},
   "outputs": [],
   "source": []
  }
 ],
 "metadata": {
  "kernelspec": {
   "display_name": "Python 3",
   "language": "python",
   "name": "python3"
  },
  "language_info": {
   "codemirror_mode": {
    "name": "ipython",
    "version": 3
   },
   "file_extension": ".py",
   "mimetype": "text/x-python",
   "name": "python",
   "nbconvert_exporter": "python",
   "pygments_lexer": "ipython3",
   "version": "3.12.7"
  }
 },
 "nbformat": 4,
 "nbformat_minor": 2
}
